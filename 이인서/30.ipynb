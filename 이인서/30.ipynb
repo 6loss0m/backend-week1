{
 "cells": [
  {
   "cell_type": "markdown",
   "id": "fa13bdc4",
   "metadata": {},
   "source": [
    "# 백준 10610 문제 : 30"
   ]
  },
  {
   "cell_type": "markdown",
   "id": "aa524979",
   "metadata": {},
   "source": [
    "\n",
    "## 문제\n",
    "\n",
    "어느 날, 미르코는 우연히 길거리에서 양수 N을 보았다. 미르코는 30이란 수를 존경하기 때문에, 그는 길거리에서 찾은 수에 포함된 숫자들을 섞어 30의 배수가 되는 가장 큰 수를 만들고 싶어한다.\n",
    "\n",
    "미르코를 도와 그가 만들고 싶어하는 수를 계산하는 프로그램을 작성하라.\n",
    "\n",
    "## 입력\n",
    "\n",
    "N을 입력받는다. N는 최대 105개의 숫자로 구성되어 있으며, 0으로 시작하지 않는다.\n",
    "\n",
    "## 출력\n",
    "\n",
    "미르코가 만들고 싶어하는 수가 존재한다면 그 수를 출력하라. 그 수가 존재하지 않는다면, -1을 출력하라.\n",
    "\n",
    "### 예제 입력 1\n",
    "\n",
    "30\n",
    "\n",
    "### 예제 출력 1\n",
    "\n",
    "30\n",
    "\n",
    "### 예제 입력 2\n",
    "\n",
    "102\n",
    "\n",
    "### 예제 출력 2\n",
    "\n",
    "210\n",
    "\n",
    "### 예제 입력 3\n",
    "\n",
    "2931\n",
    "\n",
    "### 예제 출력 3\n",
    "\n",
    "-1\n",
    "\n",
    "### 예제 입력 4\n",
    "\n",
    "80875542\n",
    "\n",
    "### 예제 출력 4\n",
    "\n",
    "88755420\n"
   ]
  },
  {
   "cell_type": "markdown",
   "id": "a55dbd87",
   "metadata": {},
   "source": [
    "## 해설\n",
    "\n",
    "그리디 알고리즘과 수학 성질을 이용해서 푸는 문제\n",
    "\n",
    "모든 수의 합이 3의 배수이고, 0이 반드시 하나 이상 있으면 30의 배수가 되고,\n",
    "위의 특성을 만족하면 그냥 수를 내림차순으로 정렬해서 수로 변환하면 정답이 된다."
   ]
  },
  {
   "cell_type": "code",
   "execution_count": 1,
   "id": "0e499138",
   "metadata": {},
   "outputs": [
    {
     "name": "stdout",
     "output_type": "stream",
     "text": [
      "-1\n"
     ]
    }
   ],
   "source": [
    "# 백준 10610번 문제 : 30\n",
    "# https://www.acmicpc.net/problem/10610\n",
    "# 알고리즘 분류 : 수학, 문자열, 그리디 알고리즘, 정렬, 정수론\n",
    "\n",
    "import sys\n",
    "\n",
    "digit_count = [0 for i in range(10)]\n",
    "num = sys.stdin.readline().strip('\\n')\n",
    "for i in num:\n",
    "    digit_count[int(i)] += 1\n",
    "tot = 0\n",
    "\n",
    "if digit_count[0] == 0:\n",
    "    print(-1)\n",
    "else:\n",
    "    for i in range(1, 10):\n",
    "        tot += digit_count[i] * i\n",
    "    if tot % 3 != 0:\n",
    "        print(-1)\n",
    "    else:\n",
    "        print(''.join(sorted(num, reverse=True)))\n"
   ]
  }
 ],
 "metadata": {
  "kernelspec": {
   "display_name": "Python 3 (ipykernel)",
   "language": "python",
   "name": "python3"
  },
  "language_info": {
   "codemirror_mode": {
    "name": "ipython",
    "version": 3
   },
   "file_extension": ".py",
   "mimetype": "text/x-python",
   "name": "python",
   "nbconvert_exporter": "python",
   "pygments_lexer": "ipython3",
   "version": "3.11.1"
  }
 },
 "nbformat": 4,
 "nbformat_minor": 5
}
